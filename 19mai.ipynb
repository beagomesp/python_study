{
 "cells": [
  {
   "cell_type": "code",
   "execution_count": 1,
   "metadata": {},
   "outputs": [],
   "source": [
    "import pandas as pd\n",
    "df = pd.read_excel(\"Clientes.xlsx\")"
   ]
  },
  {
   "cell_type": "code",
   "execution_count": 5,
   "metadata": {},
   "outputs": [
    {
     "data": {
      "text/plain": [
       "0     1\n",
       "1    63\n",
       "2    55\n",
       "3    88\n",
       "4    10\n",
       "dtype: int64"
      ]
     },
     "execution_count": 5,
     "metadata": {},
     "output_type": "execute_result"
    }
   ],
   "source": [
    "df.head()"
   ]
  },
  {
   "cell_type": "code",
   "execution_count": null,
   "metadata": {},
   "outputs": [],
   "source": [
    "condicao = df.Tipo == \"EA\"\n",
    "\n",
    "#df[condicao]\n",
    "#&\n",
    "#df[(df.Tipo == \"EA\")&(df.Idade <25)]\n",
    "\n",
    "#OU\n",
    "#df[(df.Level == \"primary\")|(df.Level == \"tertiary\")]\n",
    "\n",
    "#OS DOIS UNIDOS\n",
    "df[(df.Tipo == \"EA\")& ((df.Level == \"primary\")|(df.Level == \"tertiary\"))]\n"
   ]
  },
  {
   "cell_type": "code",
   "execution_count": null,
   "metadata": {},
   "outputs": [],
   "source": [
    "colunas = [\"Nome\", \"Sobrenome\"]\n",
    "\n",
    "df[(df.Tipo== \"EA\") & (df.Idade <25)][[\"Nome\",\"Sobrenome\"]]\n",
    "#OU\n",
    "df[(df.Tipo==\"EA\")&(df.Idade<25)][colunas]\n"
   ]
  },
  {
   "cell_type": "code",
   "execution_count": null,
   "metadata": {},
   "outputs": [],
   "source": [
    "#Ou de preguicoso\n",
    "df[(df.Tipo==\"EP\") & (df.Level.isin([\"primary\",\"secundary\"]))]"
   ]
  },
  {
   "cell_type": "code",
   "execution_count": null,
   "metadata": {},
   "outputs": [],
   "source": [
    "#definindo uma media\n",
    "df.groupby(\"Tipo\")[[\"Idade\",\"Pontos\"]].mean()\n",
    "#mean - valor medio\n",
    "df.Idade.mean()\n",
    "# max - valor maximo\n",
    "df.Idade.max()\n",
    "# min - valor minimo\n",
    "df.Idade.min()"
   ]
  },
  {
   "cell_type": "code",
   "execution_count": null,
   "metadata": {},
   "outputs": [],
   "source": [
    "#c\n",
    "df.groupby([\"Tipo\",\"Level\"])[\"Idade\"].mean()"
   ]
  },
  {
   "cell_type": "code",
   "execution_count": null,
   "metadata": {},
   "outputs": [],
   "source": [
    "colunas =[\"Pontos\",\"Tipo\"]\n",
    "df[((df.Idade >=23)&(df.Idade <=24))& (df.Tipo.isin([\"EA\",\"EP\"]))][colunas].groupby(\"Tipo\").mean()"
   ]
  },
  {
   "cell_type": "code",
   "execution_count": 12,
   "metadata": {},
   "outputs": [],
   "source": [
    "#Series - Listas\n",
    "df = pd.Series([1,63,55,88,10])\n",
    "#flutuante\n",
    "df = pd.Series([1,63,55,88,10,11.3])\n",
    "#tipo objeto\n",
    "df = pd.Series([1,55,99,6.5,\"100\"])"
   ]
  },
  {
   "cell_type": "code",
   "execution_count": 17,
   "metadata": {},
   "outputs": [],
   "source": [
    "#adicao com index\n",
    "df = pd.Series([10,22,35,66], index =[\"a\",\"b\",\"c\",\"d\"])\n",
    "#construcao por meio de objetos\n",
    "df= pd.Series({\"c\": 12, \"b\":98, \"d\":122})"
   ]
  },
  {
   "cell_type": "code",
   "execution_count": 21,
   "metadata": {},
   "outputs": [],
   "source": [
    "#DataFrame(dados, index, columns)\n",
    "obj ={\"nome\": [\"ana\",\"bob\"], \"idade\": [10,12]}\n",
    "\n",
    "df = pd.DataFrame(data = obj)\n",
    "df = pd.DataFrame(obj)"
   ]
  },
  {
   "cell_type": "code",
   "execution_count": 25,
   "metadata": {},
   "outputs": [],
   "source": [
    "#criando de modo direto\n",
    "df = pd.DataFrame(\n",
    "  [[10,10,10,10],\n",
    "  [11,11,11,11],\n",
    "  [12,12,12,12]\n",
    "  ],\n",
    "  columns= [\"a\",\"b\",\"c\",\"d\"]\n",
    ")"
   ]
  },
  {
   "cell_type": "code",
   "execution_count": 31,
   "metadata": {},
   "outputs": [],
   "source": [
    "data = {\n",
    "  \"calories\": [420,380,390],\n",
    "  \"duration\": [50,40,45]\n",
    "}\n",
    "\n",
    "df= pd.DataFrame(data, index=[\"dado1\",\"dado2\",\"dado3\"])"
   ]
  },
  {
   "cell_type": "code",
   "execution_count": 29,
   "metadata": {},
   "outputs": [],
   "source": [
    "#apagando coluna e sobrescrevendo\n",
    "df.drop([\"duration\"], axis = 1, inplace = True)"
   ]
  },
  {
   "cell_type": "code",
   "execution_count": 34,
   "metadata": {},
   "outputs": [],
   "source": [
    "#adicionando colunas\n",
    "data = {\n",
    "  \"calories\": [420,380,390],\n",
    "  \"duration\": [50,40,45]\n",
    "}\n",
    "\n",
    "df= pd.DataFrame(data)\n",
    "\n",
    "df[\"percurso\"] = 0\n",
    "df.head()\n",
    "df[\"percurso\"] = 2"
   ]
  },
  {
   "cell_type": "code",
   "execution_count": 46,
   "metadata": {},
   "outputs": [],
   "source": [
    "#criando um coluna em uma copia do dataframe\n",
    "\n",
    "df0 = df.assign(nova_coluna =78.9)\n"
   ]
  },
  {
   "cell_type": "code",
   "execution_count": null,
   "metadata": {},
   "outputs": [],
   "source": [
    "df0.head()"
   ]
  }
 ],
 "metadata": {
  "interpreter": {
   "hash": "2f83c1549b65c16ce13f03c8aaaa9db4e03295bd0bc8bf79763c61add8ed5e8f"
  },
  "kernelspec": {
   "display_name": "Python 3.10.4 ('.venv': venv)",
   "language": "python",
   "name": "python3"
  },
  "language_info": {
   "codemirror_mode": {
    "name": "ipython",
    "version": 3
   },
   "file_extension": ".py",
   "mimetype": "text/x-python",
   "name": "python",
   "nbconvert_exporter": "python",
   "pygments_lexer": "ipython3",
   "version": "3.10.4"
  },
  "orig_nbformat": 4
 },
 "nbformat": 4,
 "nbformat_minor": 2
}

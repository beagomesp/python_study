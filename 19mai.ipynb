{
 "cells": [
  {
   "cell_type": "code",
   "execution_count": 1,
   "metadata": {},
   "outputs": [],
   "source": [
    "import pandas as pd\n",
    "df = pd.read_excel(\"Clientes.xlsx\")"
   ]
  },
  {
   "cell_type": "code",
   "execution_count": 11,
   "metadata": {},
   "outputs": [
    {
     "data": {
      "text/html": [
       "<div>\n",
       "<style scoped>\n",
       "    .dataframe tbody tr th:only-of-type {\n",
       "        vertical-align: middle;\n",
       "    }\n",
       "\n",
       "    .dataframe tbody tr th {\n",
       "        vertical-align: top;\n",
       "    }\n",
       "\n",
       "    .dataframe thead th {\n",
       "        text-align: right;\n",
       "    }\n",
       "</style>\n",
       "<table border=\"1\" class=\"dataframe\">\n",
       "  <thead>\n",
       "    <tr style=\"text-align: right;\">\n",
       "      <th></th>\n",
       "      <th>ID Entidade</th>\n",
       "      <th>Tipo</th>\n",
       "      <th>Nome</th>\n",
       "      <th>Idade</th>\n",
       "      <th>Genero</th>\n",
       "      <th>Sobrenome</th>\n",
       "      <th>Email</th>\n",
       "      <th>Pontos</th>\n",
       "      <th>Teste</th>\n",
       "    </tr>\n",
       "  </thead>\n",
       "  <tbody>\n",
       "    <tr>\n",
       "      <th>0</th>\n",
       "      <td>1</td>\n",
       "      <td>EA</td>\n",
       "      <td>Bea</td>\n",
       "      <td>25</td>\n",
       "      <td>F</td>\n",
       "      <td>Gomes</td>\n",
       "      <td>email@email.com</td>\n",
       "      <td>45</td>\n",
       "      <td>0</td>\n",
       "    </tr>\n",
       "    <tr>\n",
       "      <th>1</th>\n",
       "      <td>2</td>\n",
       "      <td>EP</td>\n",
       "      <td>Fhelipe</td>\n",
       "      <td>24</td>\n",
       "      <td>M</td>\n",
       "      <td>Rodrigues</td>\n",
       "      <td>email@email.com</td>\n",
       "      <td>28</td>\n",
       "      <td>0</td>\n",
       "    </tr>\n",
       "    <tr>\n",
       "      <th>2</th>\n",
       "      <td>3</td>\n",
       "      <td>EA</td>\n",
       "      <td>Tania</td>\n",
       "      <td>24</td>\n",
       "      <td>F</td>\n",
       "      <td>Arruda</td>\n",
       "      <td>email@email.com</td>\n",
       "      <td>45</td>\n",
       "      <td>0</td>\n",
       "    </tr>\n",
       "    <tr>\n",
       "      <th>3</th>\n",
       "      <td>4</td>\n",
       "      <td>EP</td>\n",
       "      <td>Weslley</td>\n",
       "      <td>23</td>\n",
       "      <td>M</td>\n",
       "      <td>Ferreira</td>\n",
       "      <td>email@email.com</td>\n",
       "      <td>35</td>\n",
       "      <td>0</td>\n",
       "    </tr>\n",
       "    <tr>\n",
       "      <th>4</th>\n",
       "      <td>5</td>\n",
       "      <td>EP</td>\n",
       "      <td>Bianca</td>\n",
       "      <td>23</td>\n",
       "      <td>F</td>\n",
       "      <td>Gomes</td>\n",
       "      <td>email@email.com</td>\n",
       "      <td>29</td>\n",
       "      <td>0</td>\n",
       "    </tr>\n",
       "  </tbody>\n",
       "</table>\n",
       "</div>"
      ],
      "text/plain": [
       "   ID Entidade Tipo     Nome  Idade Genero  Sobrenome            Email  \\\n",
       "0            1   EA      Bea     25      F      Gomes  email@email.com   \n",
       "1            2   EP  Fhelipe     24      M  Rodrigues  email@email.com   \n",
       "2            3   EA    Tania     24      F     Arruda  email@email.com   \n",
       "3            4   EP  Weslley     23      M   Ferreira  email@email.com   \n",
       "4            5   EP   Bianca     23      F      Gomes  email@email.com   \n",
       "\n",
       "   Pontos  Teste  \n",
       "0      45      0  \n",
       "1      28      0  \n",
       "2      45      0  \n",
       "3      35      0  \n",
       "4      29      0  "
      ]
     },
     "execution_count": 11,
     "metadata": {},
     "output_type": "execute_result"
    }
   ],
   "source": [
    "df.head()"
   ]
  },
  {
   "cell_type": "code",
   "execution_count": null,
   "metadata": {},
   "outputs": [],
   "source": [
    "condicao = df.Tipo == \"EA\"\n",
    "\n",
    "#df[condicao]\n",
    "#&\n",
    "#df[(df.Tipo == \"EA\")&(df.Idade <25)]\n",
    "\n",
    "#OU\n",
    "#df[(df.Level == \"primary\")|(df.Level == \"tertiary\")]\n",
    "\n",
    "#OS DOIS UNIDOS\n",
    "df[(df.Tipo == \"EA\")& ((df.Level == \"primary\")|(df.Level == \"tertiary\"))]\n"
   ]
  },
  {
   "cell_type": "code",
   "execution_count": null,
   "metadata": {},
   "outputs": [],
   "source": [
    "colunas = [\"Nome\", \"Sobrenome\"]\n",
    "\n",
    "df[(df.Tipo== \"EA\") & (df.Idade <25)][[\"Nome\",\"Sobrenome\"]]\n",
    "#OU\n",
    "df[(df.Tipo==\"EA\")&(df.Idade<25)][colunas]\n"
   ]
  },
  {
   "cell_type": "code",
   "execution_count": null,
   "metadata": {},
   "outputs": [],
   "source": [
    "#Ou de preguicoso\n",
    "df[(df.Tipo==\"EP\") & (df.Level.isin([\"primary\",\"secundary\"]))]"
   ]
  },
  {
   "cell_type": "code",
   "execution_count": null,
   "metadata": {},
   "outputs": [],
   "source": [
    "#definindo uma media\n",
    "df.groupby(\"Tipo\")[[\"Idade\",\"Pontos\"]].mean()\n",
    "#mean - valor medio\n",
    "df.Idade.mean()\n",
    "# max - valor maximo\n",
    "df.Idade.max()\n",
    "# min - valor minimo\n",
    "df.Idade.min()"
   ]
  },
  {
   "cell_type": "code",
   "execution_count": null,
   "metadata": {},
   "outputs": [],
   "source": [
    "#c\n",
    "df.groupby([\"Tipo\",\"Level\"])[\"Idade\"].mean()"
   ]
  },
  {
   "cell_type": "code",
   "execution_count": 29,
   "metadata": {},
   "outputs": [
    {
     "data": {
      "text/html": [
       "<div>\n",
       "<style scoped>\n",
       "    .dataframe tbody tr th:only-of-type {\n",
       "        vertical-align: middle;\n",
       "    }\n",
       "\n",
       "    .dataframe tbody tr th {\n",
       "        vertical-align: top;\n",
       "    }\n",
       "\n",
       "    .dataframe thead th {\n",
       "        text-align: right;\n",
       "    }\n",
       "</style>\n",
       "<table border=\"1\" class=\"dataframe\">\n",
       "  <thead>\n",
       "    <tr style=\"text-align: right;\">\n",
       "      <th></th>\n",
       "      <th>Pontos</th>\n",
       "    </tr>\n",
       "    <tr>\n",
       "      <th>Tipo</th>\n",
       "      <th></th>\n",
       "    </tr>\n",
       "  </thead>\n",
       "  <tbody>\n",
       "    <tr>\n",
       "      <th>EA</th>\n",
       "      <td>45.000000</td>\n",
       "    </tr>\n",
       "    <tr>\n",
       "      <th>EP</th>\n",
       "      <td>30.666667</td>\n",
       "    </tr>\n",
       "  </tbody>\n",
       "</table>\n",
       "</div>"
      ],
      "text/plain": [
       "         Pontos\n",
       "Tipo           \n",
       "EA    45.000000\n",
       "EP    30.666667"
      ]
     },
     "execution_count": 29,
     "metadata": {},
     "output_type": "execute_result"
    }
   ],
   "source": [
    "colunas =[\"Pontos\",\"Tipo\"]\n",
    "df[((df.Idade >=23)&(df.Idade <=24))& (df.Tipo.isin([\"EA\",\"EP\"]))][colunas].groupby(\"Tipo\").mean()"
   ]
  }
 ],
 "metadata": {
  "interpreter": {
   "hash": "2f83c1549b65c16ce13f03c8aaaa9db4e03295bd0bc8bf79763c61add8ed5e8f"
  },
  "kernelspec": {
   "display_name": "Python 3.10.4 ('.venv': venv)",
   "language": "python",
   "name": "python3"
  },
  "language_info": {
   "codemirror_mode": {
    "name": "ipython",
    "version": 3
   },
   "file_extension": ".py",
   "mimetype": "text/x-python",
   "name": "python",
   "nbconvert_exporter": "python",
   "pygments_lexer": "ipython3",
   "version": "3.10.4"
  },
  "orig_nbformat": 4
 },
 "nbformat": 4,
 "nbformat_minor": 2
}

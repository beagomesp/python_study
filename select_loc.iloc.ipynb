{
 "cells": [
  {
   "cell_type": "code",
   "execution_count": 1,
   "metadata": {},
   "outputs": [],
   "source": [
    "import pandas as pd\n",
    "import openpyxl"
   ]
  },
  {
   "cell_type": "code",
   "execution_count": 2,
   "metadata": {},
   "outputs": [],
   "source": [
    "df = pd.read_excel(\"Clientes.xlsx\", engine='openpyxl')"
   ]
  },
  {
   "cell_type": "code",
   "execution_count": null,
   "metadata": {},
   "outputs": [],
   "source": [
    "#pega apenas uma coluna\n",
    "df.Nome.head()"
   ]
  },
  {
   "cell_type": "code",
   "execution_count": 10,
   "metadata": {},
   "outputs": [],
   "source": [
    "#Como criar uma nova coluna\n",
    "df[\"Nome Completo\"] = df[\"Nome\"] + \" \" + df[\"Sobrenome\"]"
   ]
  },
  {
   "cell_type": "code",
   "execution_count": null,
   "metadata": {},
   "outputs": [],
   "source": [
    "#Tem que colocar duas [[]]\n",
    "df[[\"Nome\",\"Sobrenome\"]].head()"
   ]
  },
  {
   "cell_type": "code",
   "execution_count": 19,
   "metadata": {},
   "outputs": [],
   "source": [
    "#Atualizando o valor de qualquer coluna\n",
    "df.loc[0:,[\"Teste\"]] = 10"
   ]
  },
  {
   "cell_type": "code",
   "execution_count": null,
   "metadata": {},
   "outputs": [],
   "source": [
    "#Usando o loc(seleciona a linha)\n",
    "#df.loc[0]\n",
    "#df.loc[2:4]\n",
    "#df.loc[[1,3,4]]\n",
    "#df.loc[2:4, \"Nome\"]\n",
    "#df.loc[2:4, [\"Nome\",\"Sobrenome\"]]\n",
    "df.loc[2:4,\"Nome\":\"Sobrenome\"]\n",
    "\n"
   ]
  },
  {
   "cell_type": "code",
   "execution_count": null,
   "metadata": {},
   "outputs": [],
   "source": [
    "#Selecao de dados de acordo com algumas condicoes\n",
    "#*Mostar apenas as linhas do DataFrama onde o valor da coluna\n",
    "#* Tipo é EP e o valor da coluna Pontos é menor que 30\n",
    "print(df.loc[(df.Tipo == \"EP\") & (df.Pontos<30)])"
   ]
  },
  {
   "cell_type": "code",
   "execution_count": null,
   "metadata": {},
   "outputs": [],
   "source": [
    "#Usando o iloc\n",
    "# Nao inclui o ultimo elemento\n",
    "#df.iloc[2:4]\n",
    "#df.iloc[1:3,2:5]\n",
    "#Pegando intervalos nao continuos\n",
    "df.iloc[[0,3], 2:5]"
   ]
  },
  {
   "cell_type": "code",
   "execution_count": null,
   "metadata": {},
   "outputs": [],
   "source": [
    "df.head()"
   ]
  }
 ],
 "metadata": {
  "interpreter": {
   "hash": "2f83c1549b65c16ce13f03c8aaaa9db4e03295bd0bc8bf79763c61add8ed5e8f"
  },
  "kernelspec": {
   "display_name": "Python 3.10.4 ('.venv': venv)",
   "language": "python",
   "name": "python3"
  },
  "language_info": {
   "codemirror_mode": {
    "name": "ipython",
    "version": 3
   },
   "file_extension": ".py",
   "mimetype": "text/x-python",
   "name": "python",
   "nbconvert_exporter": "python",
   "pygments_lexer": "ipython3",
   "version": "3.10.4"
  },
  "orig_nbformat": 4
 },
 "nbformat": 4,
 "nbformat_minor": 2
}

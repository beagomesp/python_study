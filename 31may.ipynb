{
 "cells": [
  {
   "cell_type": "code",
   "execution_count": 1,
   "metadata": {},
   "outputs": [],
   "source": [
    "import pandas as pd"
   ]
  },
  {
   "cell_type": "code",
   "execution_count": 18,
   "metadata": {},
   "outputs": [],
   "source": [
    "dfex = pd.read_csv(\"dirtydata.csv\")"
   ]
  },
  {
   "cell_type": "code",
   "execution_count": null,
   "metadata": {},
   "outputs": [],
   "source": [
    "dfex"
   ]
  },
  {
   "cell_type": "code",
   "execution_count": 6,
   "metadata": {},
   "outputs": [],
   "source": [
    "#Remover celular vazias\n",
    "new_dfex= dfex.dropna()\n"
   ]
  },
  {
   "cell_type": "code",
   "execution_count": 10,
   "metadata": {},
   "outputs": [
    {
     "data": {
      "text/plain": [
       "293.76249999999993"
      ]
     },
     "execution_count": 10,
     "metadata": {},
     "output_type": "execute_result"
    }
   ],
   "source": [
    "#Substituir por um valor\n",
    "dfex.fillna(130, inplace = True)\n",
    "\n",
    "#susbtituir apenas de uma coluna\n",
    "dfex[\"Calories\"].fillna(130, inplace=True)\n",
    "\n",
    "#Substituir usando média, mediana ou modo\n",
    "x = dfex[\"Calories\"].mean()\n",
    "\n",
    "dfex[\"Calories\"].fillna(x, inplace=True)"
   ]
  },
  {
   "cell_type": "code",
   "execution_count": null,
   "metadata": {},
   "outputs": [],
   "source": [
    "#converter de numero para data\n",
    "to_datetime()\n",
    "\n",
    "dfex[\"Date\"] = pd.to_datetime(dfex[\"Date\"])"
   ]
  },
  {
   "cell_type": "code",
   "execution_count": 12,
   "metadata": {},
   "outputs": [],
   "source": [
    "#DADOS ERRADOS\n",
    "#substituindo valores de duracao \n",
    "dfex.loc[7,\"Duration\"] = 45"
   ]
  },
  {
   "cell_type": "code",
   "execution_count": 19,
   "metadata": {},
   "outputs": [],
   "source": [
    "#DADOS ERRADOS\n",
    "#Criar algumas regras, por exemplo, definir alguns limites \n",
    "# para valores legais e substituir quaisquer valores que \n",
    "# estejam fora dos limites\n",
    "\n",
    "for x in dfex.index:\n",
    "  if dfex.loc[x, 'Duration'] > 120:\n",
    "    dfex.loc[x, 'Duration'] = 120"
   ]
  },
  {
   "cell_type": "code",
   "execution_count": 21,
   "metadata": {},
   "outputs": [],
   "source": [
    "#DADOS ERRADOS\n",
    "#Arrancar os dados estranhos\n",
    "\n",
    "for x in dfex.index:\n",
    "  if dfex.loc[x,'Duration'] > 120:\n",
    "    dfex.drop(x, inplace= True)\n"
   ]
  },
  {
   "cell_type": "code",
   "execution_count": 23,
   "metadata": {},
   "outputs": [],
   "source": [
    "#TRATAR DUPLICATAS\n",
    "#Descobrir duplicadas \n",
    "print(dfex. duplicated())"
   ]
  },
  {
   "cell_type": "code",
   "execution_count": 24,
   "metadata": {},
   "outputs": [],
   "source": [
    "#Removendo duplicatas\n",
    "dfex.drop_duplicates(inplace = True)"
   ]
  },
  {
   "cell_type": "code",
   "execution_count": 26,
   "metadata": {},
   "outputs": [
    {
     "data": {
      "text/html": [
       "<div>\n",
       "<style scoped>\n",
       "    .dataframe tbody tr th:only-of-type {\n",
       "        vertical-align: middle;\n",
       "    }\n",
       "\n",
       "    .dataframe tbody tr th {\n",
       "        vertical-align: top;\n",
       "    }\n",
       "\n",
       "    .dataframe thead th {\n",
       "        text-align: right;\n",
       "    }\n",
       "</style>\n",
       "<table border=\"1\" class=\"dataframe\">\n",
       "  <thead>\n",
       "    <tr style=\"text-align: right;\">\n",
       "      <th></th>\n",
       "      <th>Duration</th>\n",
       "      <th>Pulse</th>\n",
       "      <th>Maxpulse</th>\n",
       "      <th>Calories</th>\n",
       "    </tr>\n",
       "  </thead>\n",
       "  <tbody>\n",
       "    <tr>\n",
       "      <th>Duration</th>\n",
       "      <td>1.000000</td>\n",
       "      <td>-0.025286</td>\n",
       "      <td>-0.071409</td>\n",
       "      <td>0.047694</td>\n",
       "    </tr>\n",
       "    <tr>\n",
       "      <th>Pulse</th>\n",
       "      <td>-0.025286</td>\n",
       "      <td>1.000000</td>\n",
       "      <td>0.269672</td>\n",
       "      <td>0.506593</td>\n",
       "    </tr>\n",
       "    <tr>\n",
       "      <th>Maxpulse</th>\n",
       "      <td>-0.071409</td>\n",
       "      <td>0.269672</td>\n",
       "      <td>1.000000</td>\n",
       "      <td>0.344494</td>\n",
       "    </tr>\n",
       "    <tr>\n",
       "      <th>Calories</th>\n",
       "      <td>0.047694</td>\n",
       "      <td>0.506593</td>\n",
       "      <td>0.344494</td>\n",
       "      <td>1.000000</td>\n",
       "    </tr>\n",
       "  </tbody>\n",
       "</table>\n",
       "</div>"
      ],
      "text/plain": [
       "          Duration     Pulse  Maxpulse  Calories\n",
       "Duration  1.000000 -0.025286 -0.071409  0.047694\n",
       "Pulse    -0.025286  1.000000  0.269672  0.506593\n",
       "Maxpulse -0.071409  0.269672  1.000000  0.344494\n",
       "Calories  0.047694  0.506593  0.344494  1.000000"
      ]
     },
     "execution_count": 26,
     "metadata": {},
     "output_type": "execute_result"
    }
   ],
   "source": [
    "#Correlacao entre dados\n",
    "# O metodo corr() calcula a relacao entre cada coluna em seu conjunto de dados\n",
    "#Ignora colunas  \"nao numericas\"\n",
    "dfex.corr()\n",
    "\n",
    "#Entendendo as analises:\n",
    "# - 1 significa que existe uma relação de 1 para 1 (uma correlação perfeita)\n",
    "# - 0.9 também é uma boa relação, e se você aumentar um valor, o outro provavelmente aumentará também.\n",
    "# - 0.2 significa NÃO um bom relacionamento, o que significa que se um valor subir não significa que o outro subirá."
   ]
  },
  {
   "cell_type": "code",
   "execution_count": null,
   "metadata": {},
   "outputs": [],
   "source": [
    "dfex"
   ]
  },
  {
   "cell_type": "code",
   "execution_count": null,
   "metadata": {},
   "outputs": [],
   "source": [
    "new_dfex"
   ]
  }
 ],
 "metadata": {
  "interpreter": {
   "hash": "2f83c1549b65c16ce13f03c8aaaa9db4e03295bd0bc8bf79763c61add8ed5e8f"
  },
  "kernelspec": {
   "display_name": "Python 3.10.4 ('.venv': venv)",
   "language": "python",
   "name": "python3"
  },
  "language_info": {
   "codemirror_mode": {
    "name": "ipython",
    "version": 3
   },
   "file_extension": ".py",
   "mimetype": "text/x-python",
   "name": "python",
   "nbconvert_exporter": "python",
   "pygments_lexer": "ipython3",
   "version": "3.10.4"
  },
  "orig_nbformat": 4
 },
 "nbformat": 4,
 "nbformat_minor": 2
}

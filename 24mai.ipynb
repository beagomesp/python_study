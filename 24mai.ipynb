{
 "cells": [
  {
   "cell_type": "code",
   "execution_count": 2,
   "metadata": {},
   "outputs": [],
   "source": [
    "import pandas as pd"
   ]
  },
  {
   "cell_type": "code",
   "execution_count": 7,
   "metadata": {},
   "outputs": [],
   "source": [
    "#esse é possivel ter um NaN\n",
    "s1 = pd.Series([1,2,3], name = \"c1\")\n",
    "s2 = pd.Series([10,10,20,30], name = \"c2\")\n",
    "\n",
    "p = pd.DataFrame({s1.name: s1, s2.name: s2})"
   ]
  },
  {
   "cell_type": "code",
   "execution_count": null,
   "metadata": {},
   "outputs": [],
   "source": [
    "#conferencia de tipo\n",
    "#formula para data frame\n",
    "type(p[[\"c2\"]])\n",
    "#formula para series\n",
    "type(p[\"c2\"])"
   ]
  },
  {
   "cell_type": "code",
   "execution_count": 8,
   "metadata": {},
   "outputs": [],
   "source": [
    "#utilizando o mean\n",
    "#criando uma coluna q para atrapalhar a operacao\n",
    "p[\"c3\"] = \"juninho\""
   ]
  },
  {
   "cell_type": "code",
   "execution_count": 9,
   "metadata": {},
   "outputs": [],
   "source": [
    "p[\"media\"] = p[[\"c1\", \"c2\"]].mean(axis =1, skipna=True)"
   ]
  },
  {
   "cell_type": "code",
   "execution_count": null,
   "metadata": {},
   "outputs": [],
   "source": [
    "p.insert(1,\"valor1\", \"teste\")\n",
    "del p[\"media\"]\n",
    "#remove mas guarda os valore par se vc quiser trabalhar com eles depois\n",
    "a = p.pop(\"valor1\")"
   ]
  },
  {
   "cell_type": "code",
   "execution_count": null,
   "metadata": {},
   "outputs": [],
   "source": [
    "planilha = {\"imovel\": [\"casa\", \"apartamento\", \"casa\", \"casa\"], \"preco\": [\"R$1000\", \"R$540\", \"R$4,175\", \"R$2,010\"]}\n",
    "\n",
    "df = pd.DataFrame(planilha)"
   ]
  },
  {
   "cell_type": "code",
   "execution_count": null,
   "metadata": {},
   "outputs": [],
   "source": [
    "df[\"preco\"].apply(lambda x: x. replace\"R$\", \"\"))\n",
    "df[\"preco\"].apply(lambda x: x.replace(\"R$\",\"\").replace(\",\",\"\"))\n",
    "df[\"preco_tratados\"]= df[\"preco\"].apply(lambda x: x.replace(\"R$\",\"\").replace(\",\",\"\"))"
   ]
  },
  {
   "cell_type": "code",
   "execution_count": null,
   "metadata": {},
   "outputs": [],
   "source": [
    "planilha2 = {\n",
    "  \"imovel\": [\"casa\", \"apartamento\", \"casa\", \"casa\"], \n",
    "  \"preco\": [\"R$1000\", \"R$540\", \"R$4,175\", \"R$2,010\"],\n",
    "  \"moveis\": [\"R$1500\", \"R$2000\",\"R$500\", \"R$1000\"]\n",
    "}\n",
    "\n",
    "df2 = pd.DataFrame(planilha2)"
   ]
  },
  {
   "cell_type": "code",
   "execution_count": 10,
   "metadata": {},
   "outputs": [
    {
     "data": {
      "text/html": [
       "<div>\n",
       "<style scoped>\n",
       "    .dataframe tbody tr th:only-of-type {\n",
       "        vertical-align: middle;\n",
       "    }\n",
       "\n",
       "    .dataframe tbody tr th {\n",
       "        vertical-align: top;\n",
       "    }\n",
       "\n",
       "    .dataframe thead th {\n",
       "        text-align: right;\n",
       "    }\n",
       "</style>\n",
       "<table border=\"1\" class=\"dataframe\">\n",
       "  <thead>\n",
       "    <tr style=\"text-align: right;\">\n",
       "      <th></th>\n",
       "      <th>c1</th>\n",
       "      <th>c2</th>\n",
       "      <th>c3</th>\n",
       "      <th>media</th>\n",
       "    </tr>\n",
       "  </thead>\n",
       "  <tbody>\n",
       "    <tr>\n",
       "      <th>0</th>\n",
       "      <td>1.0</td>\n",
       "      <td>10</td>\n",
       "      <td>juninho</td>\n",
       "      <td>5.5</td>\n",
       "    </tr>\n",
       "    <tr>\n",
       "      <th>1</th>\n",
       "      <td>2.0</td>\n",
       "      <td>10</td>\n",
       "      <td>juninho</td>\n",
       "      <td>6.0</td>\n",
       "    </tr>\n",
       "    <tr>\n",
       "      <th>2</th>\n",
       "      <td>3.0</td>\n",
       "      <td>20</td>\n",
       "      <td>juninho</td>\n",
       "      <td>11.5</td>\n",
       "    </tr>\n",
       "    <tr>\n",
       "      <th>3</th>\n",
       "      <td>NaN</td>\n",
       "      <td>30</td>\n",
       "      <td>juninho</td>\n",
       "      <td>30.0</td>\n",
       "    </tr>\n",
       "  </tbody>\n",
       "</table>\n",
       "</div>"
      ],
      "text/plain": [
       "    c1  c2       c3  media\n",
       "0  1.0  10  juninho    5.5\n",
       "1  2.0  10  juninho    6.0\n",
       "2  3.0  20  juninho   11.5\n",
       "3  NaN  30  juninho   30.0"
      ]
     },
     "execution_count": 10,
     "metadata": {},
     "output_type": "execute_result"
    }
   ],
   "source": [
    "p"
   ]
  }
 ],
 "metadata": {
  "interpreter": {
   "hash": "2f83c1549b65c16ce13f03c8aaaa9db4e03295bd0bc8bf79763c61add8ed5e8f"
  },
  "kernelspec": {
   "display_name": "Python 3.10.4 ('.venv': venv)",
   "language": "python",
   "name": "python3"
  },
  "language_info": {
   "codemirror_mode": {
    "name": "ipython",
    "version": 3
   },
   "file_extension": ".py",
   "mimetype": "text/x-python",
   "name": "python",
   "nbconvert_exporter": "python",
   "pygments_lexer": "ipython3",
   "version": "3.10.4"
  },
  "orig_nbformat": 4
 },
 "nbformat": 4,
 "nbformat_minor": 2
}
